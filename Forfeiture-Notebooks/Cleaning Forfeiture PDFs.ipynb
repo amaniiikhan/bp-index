{
 "cells": [
  {
   "cell_type": "code",
   "execution_count": 35,
   "id": "f5d1cd74",
   "metadata": {},
   "outputs": [],
   "source": [
    "from tabula import read_pdf\n",
    "import pandas as pd\n",
    "import numpy as np\n",
    "import math"
   ]
  },
  {
   "cell_type": "markdown",
   "id": "46fe45aa",
   "metadata": {},
   "source": [
    "# Cleaning"
   ]
  },
  {
   "cell_type": "code",
   "execution_count": 3,
   "id": "6fc6e4b2",
   "metadata": {},
   "outputs": [],
   "source": [
    "df = read_pdf(\"SUFF06_2015-Superior-Court-Over-1000_Redacted.pdf\",pages='all')"
   ]
  },
  {
   "cell_type": "code",
   "execution_count": 12,
   "id": "cfc34084",
   "metadata": {},
   "outputs": [],
   "source": [
    "#extract dataframe\n",
    "df = df[0]"
   ]
  },
  {
   "cell_type": "code",
   "execution_count": 14,
   "id": "d890b4c4",
   "metadata": {},
   "outputs": [],
   "source": [
    "#set col names to first row\n",
    "df.columns = df.iloc[0]"
   ]
  },
  {
   "cell_type": "code",
   "execution_count": 19,
   "id": "045c2c3d",
   "metadata": {},
   "outputs": [],
   "source": [
    "#drop col name row\n",
    "df = df.drop(0, axis=0)"
   ]
  },
  {
   "cell_type": "code",
   "execution_count": 42,
   "id": "995eb5da",
   "metadata": {},
   "outputs": [],
   "source": [
    "#set to unique col names\n",
    "cols = []\n",
    "count = 0\n",
    "for c in df.columns:\n",
    "    if type(c) != str:\n",
    "        if np.isnan(c):\n",
    "            cols.append(\"Nan\"+str(count))\n",
    "            count += 1\n",
    "    else:\n",
    "        cols.append(c)\n",
    "    "
   ]
  },
  {
   "cell_type": "code",
   "execution_count": 44,
   "id": "3482adb0",
   "metadata": {},
   "outputs": [],
   "source": [
    "df.columns = cols"
   ]
  },
  {
   "cell_type": "code",
   "execution_count": 61,
   "id": "4ad48e2d",
   "metadata": {},
   "outputs": [],
   "source": [
    "#drop all nan columns with no values\n",
    "for c in df.columns:\n",
    "    if \"Nan\" in c:\n",
    "        if df[c].isnull().all():\n",
    "            df = df.drop(c, axis=1)"
   ]
  },
  {
   "cell_type": "code",
   "execution_count": 65,
   "id": "39ac0b81",
   "metadata": {},
   "outputs": [],
   "source": [
    "#drop irrelevant columns that are redacted\n",
    "df = df.drop(columns=['ADDITIONAL PERSONS NOTIFIED'])"
   ]
  },
  {
   "cell_type": "code",
   "execution_count": 69,
   "id": "0da41e69",
   "metadata": {},
   "outputs": [],
   "source": [
    "cols = df.columns "
   ]
  },
  {
   "cell_type": "code",
   "execution_count": 85,
   "id": "f7402e6d",
   "metadata": {},
   "outputs": [],
   "source": [
    "df = df.fillna('')\n",
    "df['NAME; & {police report #}'] = df['Nan1'].astype(str) + df['NAME; & {police report #}'].astype(str)"
   ]
  },
  {
   "cell_type": "code",
   "execution_count": 87,
   "id": "7d362b23",
   "metadata": {},
   "outputs": [],
   "source": [
    "df = df.drop(columns=['Nan1'])"
   ]
  },
  {
   "cell_type": "code",
   "execution_count": 89,
   "id": "0031ad6b",
   "metadata": {},
   "outputs": [],
   "source": [
    "df['PD'] = df['Nan3'].astype(str) + df['PD'].astype(str)\n",
    "df = df.drop(columns=['Nan3'])"
   ]
  },
  {
   "cell_type": "code",
   "execution_count": 91,
   "id": "08ab693b",
   "metadata": {},
   "outputs": [],
   "source": [
    "df = df.drop(columns=['Nan6', \"REMIT RECD.\", 'DFJ', 'Nan4', 'Nan5', 'Initial', 'Nan7',\n",
    "                      'STATUS', 'MV STATUS', 'Nan8'])"
   ]
  },
  {
   "cell_type": "code",
   "execution_count": 109,
   "id": "c0b0a4dc",
   "metadata": {},
   "outputs": [],
   "source": [
    "df['NAME; & {police report #}'] = df['NAME; & {police report #}'].apply(lambda x: x.strip(\"nan\"))"
   ]
  },
  {
   "cell_type": "code",
   "execution_count": 118,
   "id": "803a1af1",
   "metadata": {},
   "outputs": [],
   "source": [
    "df['NAME; & {police report #}'] = df['NAME; & {police report #}'].apply(lambda x: ((x.replace(\"]\", \",\")).rstrip(\",\")).replace(\"[\", \"\"))"
   ]
  },
  {
   "cell_type": "code",
   "execution_count": 119,
   "id": "3784b81b",
   "metadata": {
    "scrolled": false
   },
   "outputs": [
    {
     "data": {
      "text/html": [
       "<div>\n",
       "<style scoped>\n",
       "    .dataframe tbody tr th:only-of-type {\n",
       "        vertical-align: middle;\n",
       "    }\n",
       "\n",
       "    .dataframe tbody tr th {\n",
       "        vertical-align: top;\n",
       "    }\n",
       "\n",
       "    .dataframe thead th {\n",
       "        text-align: right;\n",
       "    }\n",
       "</style>\n",
       "<table border=\"1\" class=\"dataframe\">\n",
       "  <thead>\n",
       "    <tr style=\"text-align: right;\">\n",
       "      <th></th>\n",
       "      <th>SUCV#</th>\n",
       "      <th>AMT.</th>\n",
       "      <th>M/V (reg#)</th>\n",
       "      <th>NAME; &amp; {police report #}</th>\n",
       "      <th>PD</th>\n",
       "      <th>DATE</th>\n",
       "      <th>DATE FILED</th>\n",
       "      <th>Req. of DF</th>\n",
       "      <th>TOTAL RECD REMIT REQ.</th>\n",
       "    </tr>\n",
       "  </thead>\n",
       "  <tbody>\n",
       "    <tr>\n",
       "      <th>1</th>\n",
       "      <td>2015-0043F</td>\n",
       "      <td>$3,060.00</td>\n",
       "      <td></td>\n",
       "      <td>142046501,142046501</td>\n",
       "      <td>BPD</td>\n",
       "      <td>11/6/2014</td>\n",
       "      <td>1/7/2015</td>\n",
       "      <td>2/13/2015</td>\n",
       "      <td>$1,531.04</td>\n",
       "    </tr>\n",
       "    <tr>\n",
       "      <th>2</th>\n",
       "      <td>2015-0044G</td>\n",
       "      <td>$4,646.00</td>\n",
       "      <td></td>\n",
       "      <td>2014-0A5-008304,2014-0A5-008304</td>\n",
       "      <td>Mass State Police - Revere</td>\n",
       "      <td>11/5/2014</td>\n",
       "      <td>1/7/2015</td>\n",
       "      <td>2/25/2015</td>\n",
       "      <td>$2,323.00</td>\n",
       "    </tr>\n",
       "    <tr>\n",
       "      <th>3</th>\n",
       "      <td>2015-0045H</td>\n",
       "      <td>$7,245.00</td>\n",
       "      <td></td>\n",
       "      <td>2014-0A5-008865,2014-0A5-008865</td>\n",
       "      <td>Mass State Police - Revere</td>\n",
       "      <td>11/29/2014</td>\n",
       "      <td>1/7/2015</td>\n",
       "      <td>2/25/2015</td>\n",
       "      <td>$3,622.50</td>\n",
       "    </tr>\n",
       "    <tr>\n",
       "      <th>4</th>\n",
       "      <td>2015-0063A</td>\n",
       "      <td>$1,076.00</td>\n",
       "      <td></td>\n",
       "      <td>142048893,142048893</td>\n",
       "      <td>BPD</td>\n",
       "      <td>11/14/2014</td>\n",
       "      <td>1/8/2015</td>\n",
       "      <td>3/25/2015</td>\n",
       "      <td>$538.52</td>\n",
       "    </tr>\n",
       "    <tr>\n",
       "      <th>5</th>\n",
       "      <td>2015-0064B</td>\n",
       "      <td>$2,710.00</td>\n",
       "      <td></td>\n",
       "      <td>142051353</td>\n",
       "      <td>BPD</td>\n",
       "      <td>11/22/2014</td>\n",
       "      <td>1/8/2015</td>\n",
       "      <td></td>\n",
       "      <td></td>\n",
       "    </tr>\n",
       "    <tr>\n",
       "      <th>...</th>\n",
       "      <td>...</td>\n",
       "      <td>...</td>\n",
       "      <td>...</td>\n",
       "      <td>...</td>\n",
       "      <td>...</td>\n",
       "      <td>...</td>\n",
       "      <td>...</td>\n",
       "      <td>...</td>\n",
       "      <td>...</td>\n",
       "    </tr>\n",
       "    <tr>\n",
       "      <th>165</th>\n",
       "      <td>2015-3157A</td>\n",
       "      <td>$1,520.00</td>\n",
       "      <td></td>\n",
       "      <td>152072946,152072946</td>\n",
       "      <td>BPD</td>\n",
       "      <td>9/2/2015</td>\n",
       "      <td>10/19/2015</td>\n",
       "      <td></td>\n",
       "      <td></td>\n",
       "    </tr>\n",
       "    <tr>\n",
       "      <th>166</th>\n",
       "      <td>2015-3175D</td>\n",
       "      <td>$1,409.00</td>\n",
       "      <td></td>\n",
       "      <td>152064015</td>\n",
       "      <td>BPD</td>\n",
       "      <td>8/3/2015</td>\n",
       "      <td>10/20/2015</td>\n",
       "      <td></td>\n",
       "      <td></td>\n",
       "    </tr>\n",
       "    <tr>\n",
       "      <th>167</th>\n",
       "      <td>2015-3176E</td>\n",
       "      <td>$29,732.00</td>\n",
       "      <td></td>\n",
       "      <td>2015-0A4-005521</td>\n",
       "      <td>Mass State Police - Medford</td>\n",
       "      <td>9/1/2015</td>\n",
       "      <td>10/20/2015</td>\n",
       "      <td></td>\n",
       "      <td></td>\n",
       "    </tr>\n",
       "    <tr>\n",
       "      <th>168</th>\n",
       "      <td>2015-3185E</td>\n",
       "      <td>$3,430.00</td>\n",
       "      <td></td>\n",
       "      <td>2015-0E4-008224</td>\n",
       "      <td>Mass State Police - Tunnels</td>\n",
       "      <td>9/29/2015</td>\n",
       "      <td>10/21/2015</td>\n",
       "      <td></td>\n",
       "      <td></td>\n",
       "    </tr>\n",
       "    <tr>\n",
       "      <th>169</th>\n",
       "      <td>2015-3186C</td>\n",
       "      <td>$12,440.00</td>\n",
       "      <td></td>\n",
       "      <td>152082594,152082594</td>\n",
       "      <td>BPD</td>\n",
       "      <td>10/4/2015</td>\n",
       "      <td>10/21/2015</td>\n",
       "      <td></td>\n",
       "      <td></td>\n",
       "    </tr>\n",
       "  </tbody>\n",
       "</table>\n",
       "<p>169 rows × 9 columns</p>\n",
       "</div>"
      ],
      "text/plain": [
       "          SUCV#        AMT. M/V (reg#)        NAME; & {police report #}  \\\n",
       "1    2015-0043F   $3,060.00                         142046501,142046501   \n",
       "2    2015-0044G   $4,646.00             2014-0A5-008304,2014-0A5-008304   \n",
       "3    2015-0045H   $7,245.00             2014-0A5-008865,2014-0A5-008865   \n",
       "4    2015-0063A   $1,076.00                         142048893,142048893   \n",
       "5    2015-0064B   $2,710.00                                   142051353   \n",
       "..          ...         ...        ...                              ...   \n",
       "165  2015-3157A   $1,520.00                         152072946,152072946   \n",
       "166  2015-3175D   $1,409.00                                   152064015   \n",
       "167  2015-3176E  $29,732.00                             2015-0A4-005521   \n",
       "168  2015-3185E   $3,430.00                             2015-0E4-008224   \n",
       "169  2015-3186C  $12,440.00                         152082594,152082594   \n",
       "\n",
       "                              PD        DATE  DATE FILED Req. of DF  \\\n",
       "1                            BPD   11/6/2014    1/7/2015  2/13/2015   \n",
       "2     Mass State Police - Revere   11/5/2014    1/7/2015  2/25/2015   \n",
       "3     Mass State Police - Revere  11/29/2014    1/7/2015  2/25/2015   \n",
       "4                            BPD  11/14/2014    1/8/2015  3/25/2015   \n",
       "5                            BPD  11/22/2014    1/8/2015              \n",
       "..                           ...         ...         ...        ...   \n",
       "165                          BPD    9/2/2015  10/19/2015              \n",
       "166                          BPD    8/3/2015  10/20/2015              \n",
       "167  Mass State Police - Medford    9/1/2015  10/20/2015              \n",
       "168  Mass State Police - Tunnels   9/29/2015  10/21/2015              \n",
       "169                          BPD   10/4/2015  10/21/2015              \n",
       "\n",
       "    TOTAL RECD REMIT REQ.  \n",
       "1               $1,531.04  \n",
       "2               $2,323.00  \n",
       "3               $3,622.50  \n",
       "4                 $538.52  \n",
       "5                          \n",
       "..                    ...  \n",
       "165                        \n",
       "166                        \n",
       "167                        \n",
       "168                        \n",
       "169                        \n",
       "\n",
       "[169 rows x 9 columns]"
      ]
     },
     "execution_count": 119,
     "metadata": {},
     "output_type": "execute_result"
    }
   ],
   "source": [
    "df"
   ]
  },
  {
   "cell_type": "code",
   "execution_count": 120,
   "id": "1a7b0991",
   "metadata": {},
   "outputs": [],
   "source": [
    "df.to_csv(\"2015_trial_clean.csv\")"
   ]
  }
 ],
 "metadata": {
  "kernelspec": {
   "display_name": "Python 3 (ipykernel)",
   "language": "python",
   "name": "python3"
  },
  "language_info": {
   "codemirror_mode": {
    "name": "ipython",
    "version": 3
   },
   "file_extension": ".py",
   "mimetype": "text/x-python",
   "name": "python",
   "nbconvert_exporter": "python",
   "pygments_lexer": "ipython3",
   "version": "3.10.6"
  }
 },
 "nbformat": 4,
 "nbformat_minor": 5
}
